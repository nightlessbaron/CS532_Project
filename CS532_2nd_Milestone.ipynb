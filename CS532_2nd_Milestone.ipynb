{
  "nbformat": 4,
  "nbformat_minor": 0,
  "metadata": {
    "colab": {
      "provenance": []
    },
    "kernelspec": {
      "name": "python3",
      "display_name": "Python 3"
    },
    "language_info": {
      "name": "python"
    }
  },
  "cells": [
    {
      "cell_type": "code",
      "source": [
        "# Get the dependancies\n",
        "# !apt-get update\n",
        "!apt-get install openjdk-8-jdk-headless -qq > /dev/null\n",
        "!wget -q http://archive.apache.org/dist/spark/spark-3.3.1/spark-3.3.1-bin-hadoop3.tgz\n",
        "!tar xf spark-3.3.1-bin-hadoop3.tgz\n",
        "!pip install -q findspark\n",
        "\n",
        "import os\n",
        "os.environ[\"JAVA_HOME\"] = \"/usr/lib/jvm/java-8-openjdk-amd64\"\n",
        "os.environ[\"SPARK_HOME\"] = \"/content/spark-3.3.1-bin-hadoop3\""
      ],
      "metadata": {
        "id": "LIhG9i0Bey2m"
      },
      "execution_count": null,
      "outputs": []
    },
    {
      "cell_type": "code",
      "source": [
        "# Import dependancies\n",
        "import findspark\n",
        "findspark.init()\n",
        "\n",
        "import pyspark, re\n",
        "from pyspark.sql.functions import udf\n",
        "from pyspark.sql import SparkSession\n",
        "from pyspark.sql.functions import col, concat\n",
        "from pyspark.ml.feature import HashingTF, IDF, Tokenizer\n",
        "from pyspark.ml.classification import NaiveBayes, RandomForestClassifier, LogisticRegression\n",
        "from pyspark.ml import Pipeline\n",
        "from pyspark.ml.evaluation import MulticlassClassificationEvaluator\n",
        "\n",
        "# Initialize session\n",
        "spark = SparkSession.builder.getOrCreate()"
      ],
      "metadata": {
        "id": "xgcZfcqfe64z"
      },
      "execution_count": null,
      "outputs": []
    },
    {
      "cell_type": "markdown",
      "source": [
        "# Classification code"
      ],
      "metadata": {
        "id": "kjt_OgMNdgfV"
      }
    },
    {
      "cell_type": "code",
      "source": [
        "# Download and extract the data\n",
        "!wget https://jmcauley.ucsd.edu/data/amazon_v2/categoryFiles/Magazine_Subscriptions.json.gz --no-check-certificate\n",
        "# !wget https://datarepo.eng.ucsd.edu/mcauley_group/data/amazon_v2/categoryFiles/All_Beauty.json.gz --no-check-certificate\n",
        "!gzip -d Magazine_Subscriptions.json.gz"
      ],
      "metadata": {
        "id": "eB9apVr5eh7h",
        "colab": {
          "base_uri": "https://localhost:8080/"
        },
        "outputId": "5cd35191-41e4-4439-b7a6-e4d4cc9c670d"
      },
      "execution_count": null,
      "outputs": [
        {
          "output_type": "stream",
          "name": "stdout",
          "text": [
            "--2023-05-17 00:47:14--  https://jmcauley.ucsd.edu/data/amazon_v2/categoryFiles/Magazine_Subscriptions.json.gz\n",
            "Resolving jmcauley.ucsd.edu (jmcauley.ucsd.edu)... 137.110.160.73\n",
            "Connecting to jmcauley.ucsd.edu (jmcauley.ucsd.edu)|137.110.160.73|:443... connected.\n",
            "WARNING: cannot verify jmcauley.ucsd.edu's certificate, issued by ‘CN=InCommon RSA Server CA,OU=InCommon,O=Internet2,L=Ann Arbor,ST=MI,C=US’:\n",
            "  Unable to locally verify the issuer's authority.\n",
            "HTTP request sent, awaiting response... 200 OK\n",
            "Length: 12875273 (12M) [application/x-gzip]\n",
            "Saving to: ‘Magazine_Subscriptions.json.gz’\n",
            "\n",
            "Magazine_Subscripti 100%[===================>]  12.28M  40.1MB/s    in 0.3s    \n",
            "\n",
            "2023-05-17 00:47:15 (40.1 MB/s) - ‘Magazine_Subscriptions.json.gz’ saved [12875273/12875273]\n",
            "\n"
          ]
        }
      ]
    },
    {
      "cell_type": "code",
      "source": [
        "# View the data format\n",
        "!head -n 10 Magazine_Subscriptions.json"
      ],
      "metadata": {
        "id": "rRThYvYrerF2",
        "colab": {
          "base_uri": "https://localhost:8080/"
        },
        "outputId": "93c51aee-0516-4d5a-a6ca-569a0886e2b4"
      },
      "execution_count": null,
      "outputs": [
        {
          "output_type": "stream",
          "name": "stdout",
          "text": [
            "{\"overall\": 5.0, \"vote\": \"9\", \"verified\": false, \"reviewTime\": \"11 8, 2001\", \"reviewerID\": \"AH2IFH762VY5U\", \"asin\": \"B00005N7P0\", \"reviewerName\": \"ted sedlmayr\", \"reviewText\": \"for computer enthusiast, MaxPC is a welcome sight in your mailbox. i can remember for years savorying every page of \\\"boot\\\" (as it was called in beginning) as i was (and still am) obcessed with PC's. Anyone, from advanced users - to beginners looking for knowledge - can profit from every issue of MaxPC. the icing on the cake is the subscription that comes with a CD-ROM as it is packed with demos, utilities, and other useful apps (very helpful for those not blessed with broadband connections). Until I discovered the community of hardware enthusiast web sites, MaxPC, formerly \\\"boot\\\", was my only really informative source for computing news and articles. To this day, i consider my subscription to it worth more than 10 subscriptions to most other computing mags. I can't wait until they merge with DVD media and maybe end up offering more info on Divx codecs, encoding your own movies, and best bang for the buck audio and video equipment. Try a few issues (with CD)and you may get hooked...\", \"summary\": \"AVID READER SINCE \\\"boot\\\"  WAS THE NAME\", \"unixReviewTime\": 1005177600}\n",
            "{\"overall\": 5.0, \"vote\": \"9\", \"verified\": false, \"reviewTime\": \"10 31, 2001\", \"reviewerID\": \"AOSFI0JEYU4XM\", \"asin\": \"B00005N7P0\", \"reviewerName\": \"Amazon Customer\", \"reviewText\": \"Thank god this is not a Ziff Davis publication.  MaxPC will actually tell you if a product is bad. They will print just what they think about something; no sugar coating. I would compare their style to Car and Driver. Technical, but they know how to have a good time.\", \"summary\": \"The straight scoop\", \"unixReviewTime\": 1004486400}\n",
            "{\"overall\": 3.0, \"vote\": \"14\", \"verified\": false, \"reviewTime\": \"03 24, 2007\", \"reviewerID\": \"A3JPFWKS83R49V\", \"asin\": \"B00005N7OJ\", \"style\": {\"Format:\": \" Print Magazine\"}, \"reviewerName\": \"Bryan Carey\", \"reviewText\": \"Antiques Magazine is a publication made for antique lovers and history buffs and its pages are loaded with photos of artistic paintings, handmade goods, rare pictures, and other items of similar nature. It is a magazine for those who love antiques and also those who consider themselves historians since many articles deal with historical collections of art and antiques.\\n\\nThis magazine is overflowing with antique goods and information. The articles contained in this magazine are intended to be visually stimulating in some cases, educational in others. They offer history lessons on the art that was popular during a specific era, a glimpse into an art collection at a museum, and more. The articles are meant to stimulate the interests of those who already like this subject and they often provide a means to learn more, to discover places to see or purchase some of the featured works, and to develop an appreciation for the craftsmanship that went into making these items.\\n\\nAntiques Magazine is a publication dedicated to creative art and history but one thing that isn't very creative is the titles of the articles. This might surprise some readers at first, but the editors at Antiques decided to get straight to the point in the naming of the featured articles rather than try to be creative. The features thus have titles like \\\"The Eating Utensil Collection\\\", \\\"Spanish Culture in Art\\\", etc. Each title points out exactly what the article covers, leaving nothing to the imagination.\\n\\nThe writing in Antiques is certainly good and well- edited. But I'm afraid that many readers will find the articles a little boring. They describe things well and they usually offer a good history lesson. But they lack spark and readability. I have tried to read some articles in this magazine and found my eyelids getting heavy and my thoughts drifting to other subjects. This is why I generally stick with the pictures when I glance at Antiques Magazine. I don't bother reading because most of the material doesn't keep my interest.\\n\\nOverall, Antiques Magazine is an okay publication and unless you have a deep interest in antiques and their history, you will likely become bored quickly if you try to read the articles. But the pictures in Antiques are often very interesting. Even if you have little interest in reading a magazine like this one, the photos alone make it worth an occasional look.\", \"summary\": \"Antiques Magazine is Good, but not for Everyone\", \"unixReviewTime\": 1174694400}\n",
            "{\"overall\": 5.0, \"vote\": \"13\", \"verified\": false, \"reviewTime\": \"11 10, 2006\", \"reviewerID\": \"A19FKU6JZQ2ECJ\", \"asin\": \"B00005N7OJ\", \"style\": {\"Format:\": \" Print Magazine\"}, \"reviewerName\": \"Patricia L. Porada\", \"reviewText\": \"This beautiful magazine is in itself a work of art. The quality of every page and bits of information is fascinating. I see the art, the homes and read every word including the ads. I first discovered this gem in London many years ago and now it is in my home and very welcome at that.\", \"summary\": \"THE  DISCERNING READER\", \"unixReviewTime\": 1163116800}\n",
            "{\"overall\": 5.0, \"verified\": true, \"reviewTime\": \"07 14, 2014\", \"reviewerID\": \"A25MDGOMZ2GALN\", \"asin\": \"B00005N7P0\", \"reviewerName\": \"Alvey\", \"reviewText\": \"A great read every issue.\", \"summary\": \"Five Stars\", \"unixReviewTime\": 1405296000}\n",
            "{\"overall\": 3.0, \"verified\": true, \"reviewTime\": \"06 24, 2014\", \"reviewerID\": \"A3XT9XXWXFMJ1\", \"asin\": \"B00005N7P0\", \"reviewerName\": \"Jeff A Milne\", \"reviewText\": \"This magazine was great for the times but as with all other technology magazines the new stuff isn't as good a lot of advertisments and reviews seem biased.\", \"summary\": \"Great While it lasted\", \"unixReviewTime\": 1403568000}\n",
            "{\"overall\": 5.0, \"verified\": true, \"reviewTime\": \"06 1, 2014\", \"reviewerID\": \"A3ERU005ES1IHT\", \"asin\": \"B00005N7P0\", \"reviewerName\": \"P. R THOMPSON\", \"reviewText\": \"I've read Maximum PC (MPC) for many years. The articles in it are not too technical and are written with light humor. That makes it very easy to read while at the same time it is imparting in-depth technical know-how.\\n\\n If you are a newbie, in no time you possess expert knowledge of computers and, to an extent, of electronics.\\n\\nIf you are already advanced, then you get even more advanced. Period.\\n\\nAs an MPC reader you naturally become the PC nerd amongst your friends, family, and coworkers, that everybody keeps coming to for advise and requests for help.\\n\\nFor instance at the launch of new operating system, such as with windows 8, and win 7, you'll get mobbed by confused hordes of PC users with a lost sense of direction.\\n\\nYou become their sole bastion of hope standing solidly there in the middle, that they can hold on to for guidance.\\n\\nThere are also little tid bits of information that can unexpectedly result in huge payoffs. In a little corner in one issue for example, they showed how to insert a check mark in my Utorrent software, that encrypted its outgoing traffic, so that my ISP couldn't invade my privacy anymore, and so had to stop bothering and threatening me about my sharing of copyrighted materials with my friends. That was a relief!\\n\\nI also like the fact that the magazine deals with both computer hardware, and software - though the emphasis is on hardware.\\n\\nThere are also letters to the computer doctor who diagnoses and then gives good advice on a range of computer illnesses and hiccups.\\n\\nYou also get the latest news taking place in the tech world and on copyright issues.\\n\\nOverall It is a well rounded publication with a little for everyone, young and old, great and small.\\n\\nI have the kindle for Ipad version, and it is the absolute best. Better than the Maximum PC app itself that doesn't really work.\", \"summary\": \"For Both the Newbie and The Advanced PC User\", \"unixReviewTime\": 1401580800}\n",
            "{\"overall\": 5.0, \"verified\": true, \"reviewTime\": \"05 15, 2014\", \"reviewerID\": \"AC2278WPK3EU\", \"asin\": \"B00005N7P0\", \"reviewerName\": \"Earle Williams\", \"reviewText\": \"We ordered this magazine for our grandson (then 7 going on 30) who was/is deploy into technology. He really enjoyed every issue.\", \"summary\": \"Great Gift\", \"unixReviewTime\": 1400112000}\n",
            "{\"overall\": 4.0, \"verified\": true, \"reviewTime\": \"03 28, 2014\", \"reviewerID\": \"A3QRR8PSCBI07C\", \"asin\": \"B00005N7P0\", \"reviewerName\": \"JJM\", \"reviewText\": \"I have subscribed to the nook version for a few years now and thoroughly enjoy this magazine. It has enough tech and what's new to keep me happy.\", \"summary\": \"Decent magazine at a good price\", \"unixReviewTime\": 1395964800}\n",
            "{\"overall\": 4.0, \"verified\": true, \"reviewTime\": \"02 26, 2014\", \"reviewerID\": \"A5QQOOZJOVPSF\", \"asin\": \"B00005N7P0\", \"reviewerName\": \"John L. Mehlmauer\", \"reviewText\": \"I'm old, and so is my computer.  Any advice that can help me maximize my computer perfomance is very welcome.  MaximumPC has some good tips on computer parts, vendors, and usefull tests\", \"summary\": \"Cheapskates guide\", \"unixReviewTime\": 1393372800}\n"
          ]
        }
      ]
    },
    {
      "cell_type": "code",
      "source": [
        "# Define a function to apply the pattern to each summary\n",
        "def clean_summary(summary):\n",
        "    if summary is None:\n",
        "        return None\n",
        "    else:\n",
        "        return pattern.sub(' ', summary)"
      ],
      "metadata": {
        "id": "7V3n_f_-r3ZR"
      },
      "execution_count": null,
      "outputs": []
    },
    {
      "cell_type": "code",
      "source": [
        "# Data Preprocessing\n",
        "magazine_subscription_dataset = spark.read.format(\"json\").option(\"header\",\"true\").load(\"Magazine_Subscriptions.json\")\n",
        "magazine_subscription_dataset = magazine_subscription_dataset.select('overall', 'reviewerID', 'summary', 'unixReviewTime', 'reviewText')\n",
        "\n",
        "# remove null values for any column\n",
        "magazine_subscription_dataset = magazine_subscription_dataset.filter(magazine_subscription_dataset.reviewText.isNotNull())\n",
        "\n",
        "# make primary key with col 1 and 3\n",
        "magSub_df = magazine_subscription_dataset\n",
        "magSub_df = magSub_df.select(concat(magSub_df.reviewerID,magSub_df.unixReviewTime)\n",
        "              .alias(\"primary_key\"),\"overall\",\"reviewerID\",\"summary\", \"unixReviewTime\", \"reviewText\")\n",
        "\n",
        "# change col datatypes\n",
        "magSub_df = magSub_df.select(col(magSub_df.columns[0]), col(magSub_df.columns[1]).cast('int'), col(magSub_df.columns[2]), \n",
        "                             col(magSub_df.columns[3]), col(magSub_df.columns[4]).cast('long'), col(magSub_df.columns[5]))\n",
        "\n",
        "# replace null values in summary column with empty string\n",
        "magSub_df = magSub_df.na.fill({'summary': ''})\n",
        "\n",
        "# Concatenate the two columns and create a new column 'fullText'\n",
        "magSub_df = magSub_df.withColumn('fullText', concat(col('summary'), col('reviewText')))\n",
        "magSub_df.show()"
      ],
      "metadata": {
        "id": "aIRTODwEf54N",
        "colab": {
          "base_uri": "https://localhost:8080/"
        },
        "outputId": "a95770e3-a019-4761-f2a1-c7f565bac662"
      },
      "execution_count": null,
      "outputs": [
        {
          "output_type": "stream",
          "name": "stdout",
          "text": [
            "+--------------------+-------+--------------+--------------------+--------------+--------------------+--------------------+\n",
            "|         primary_key|overall|    reviewerID|             summary|unixReviewTime|          reviewText|            fullText|\n",
            "+--------------------+-------+--------------+--------------------+--------------+--------------------+--------------------+\n",
            "|AH2IFH762VY5U1005...|      5| AH2IFH762VY5U|AVID READER SINCE...|    1005177600|for computer enth...|AVID READER SINCE...|\n",
            "|AOSFI0JEYU4XM1004...|      5| AOSFI0JEYU4XM|  The straight scoop|    1004486400|Thank god this is...|The straight scoo...|\n",
            "|A3JPFWKS83R49V117...|      3|A3JPFWKS83R49V|Antiques Magazine...|    1174694400|Antiques Magazine...|Antiques Magazine...|\n",
            "|A19FKU6JZQ2ECJ116...|      5|A19FKU6JZQ2ECJ|THE  DISCERNING R...|    1163116800|This beautiful ma...|THE  DISCERNING R...|\n",
            "|A25MDGOMZ2GALN140...|      5|A25MDGOMZ2GALN|          Five Stars|    1405296000|A great read ever...|Five StarsA great...|\n",
            "|A3XT9XXWXFMJ11403...|      3| A3XT9XXWXFMJ1|Great While it la...|    1403568000|This magazine was...|Great While it la...|\n",
            "|A3ERU005ES1IHT140...|      5|A3ERU005ES1IHT|For Both the Newb...|    1401580800|I've read Maximum...|For Both the Newb...|\n",
            "|AC2278WPK3EU14001...|      5|  AC2278WPK3EU|          Great Gift|    1400112000|We ordered this m...|Great GiftWe orde...|\n",
            "|A3QRR8PSCBI07C139...|      4|A3QRR8PSCBI07C|Decent magazine a...|    1395964800|I have subscribed...|Decent magazine a...|\n",
            "|A5QQOOZJOVPSF1393...|      4| A5QQOOZJOVPSF|   Cheapskates guide|    1393372800|I'm old, and so i...|Cheapskates guide...|\n",
            "|A1Z16630QMH8Q6138...|      5|A1Z16630QMH8Q6|    It grows on you!|    1388880000|At one time, this...|It grows on you!A...|\n",
            "|A1LN6PL2AZGKNH138...|      2|A1LN6PL2AZGKNH|          Maximum PC|    1386720000|I didn't receive ...|Maximum PCI didn'...|\n",
            "|A2FR95O3K6WZMU138...|      5|A2FR95O3K6WZMU|Got the Renewal f...|    1383091200|It was inexpensiv...|Got the Renewal f...|\n",
            "|A99B5F6XYU3CZ1380...|      5| A99B5F6XYU3CZ|      I like to read|    1380672000|These periodicals...|I like to readThe...|\n",
            "|A29248I4OWQW45137...|      4|A29248I4OWQW45|       Love this mag|    1374969600|So helpful.  A gr...|Love this magSo h...|\n",
            "|A26PEGXTHPZQEE137...|      5|A26PEGXTHPZQEE|               Great|    1373846400|Best magazine for...|GreatBest magazin...|\n",
            "|A3RSVR9ELA3U2E136...|      5|A3RSVR9ELA3U2E|            liked it|    1365120000|My husband likes ...|liked itMy husban...|\n",
            "|A2OVVHUNFT2TN7136...|      5|A2OVVHUNFT2TN7|      Great Magazine|    1364083200|I love this magaz...|Great MagazineI l...|\n",
            "|A3JD68LUCW99NX136...|      3|A3JD68LUCW99NX|       Should be 1st|    1363564800|I am getting sick...|Should be 1stI am...|\n",
            "|A1ZK8IKYH42IML136...|      5|A1ZK8IKYH42IML|Once done... stil...|    1362614400|I can recommend M...|Once done... stil...|\n",
            "+--------------------+-------+--------------+--------------------+--------------+--------------------+--------------------+\n",
            "only showing top 20 rows\n",
            "\n"
          ]
        }
      ]
    },
    {
      "cell_type": "code",
      "source": [
        "# Train / Test / Val split\n",
        "magSub_splits = magSub_df.randomSplit([0.7, 0.1, 0.2], 24)\n",
        "\n",
        "train_magSub = magSub_splits[0]\n",
        "val_magSub = magSub_splits[1]\n",
        "test_magSub = magSub_splits[2]"
      ],
      "metadata": {
        "id": "Gmm8H3bbdOUA"
      },
      "execution_count": null,
      "outputs": []
    },
    {
      "cell_type": "code",
      "source": [
        "train_magSub = train_magSub.withColumn(\"label\", ((train_magSub[\"overall\"] >= 3).cast(\"int\")))\n",
        "train_magSub_svm = train_magSub.alias('train_magSub_svm')\n",
        "train_magSub_lr = train_magSub.alias('train_magSub_lr')\n",
        "\n",
        "val_magSub = val_magSub.withColumn(\"label\", ((val_magSub[\"overall\"] >= 3).cast(\"int\")))\n",
        "val_magSub_svm = val_magSub.alias('val_magSub_svm')\n",
        "val_magSub_lr = val_magSub.alias('val_magSub_lr')\n",
        "\n",
        "test_magSub = test_magSub.withColumn(\"label\", ((test_magSub[\"overall\"] >= 3).cast(\"int\")))\n",
        "test_magSub_svm = test_magSub.alias('test_magSub_svm')\n",
        "test_magSub_lr = test_magSub.alias('test_magSub_lr')"
      ],
      "metadata": {
        "id": "3XrIaFhfK2cv"
      },
      "execution_count": null,
      "outputs": []
    },
    {
      "cell_type": "code",
      "source": [
        "from pyspark.ml.classification import LinearSVC"
      ],
      "metadata": {
        "id": "ndFweV6TMAFQ"
      },
      "execution_count": null,
      "outputs": []
    },
    {
      "cell_type": "code",
      "source": [
        "# Define the tokenizer, hashingTF, IDF, and ML objects\n",
        "tokenizer = Tokenizer(inputCol=\"reviewText\", outputCol=\"words\")\n",
        "hashingTF = HashingTF(inputCol=tokenizer.getOutputCol(), outputCol=\"rawFeatures\")\n",
        "idf = IDF(inputCol=hashingTF.getOutputCol(), outputCol=\"features\")\n",
        "\n",
        "nb = NaiveBayes(smoothing=1.0, modelType=\"multinomial\", featuresCol=\"features\", labelCol=\"label\") # naive\n",
        "svm = LinearSVC(maxIter=10, regParam=0.1, labelCol=\"label\", featuresCol=\"features\") # svc\n",
        "lr = LogisticRegression(featuresCol='features', labelCol='label', maxIter=300, regParam=0.001) # lr\n",
        "\n",
        "# Define the pipeline to execute the stages in order\n",
        "pipeline_nb = Pipeline(stages=[tokenizer, hashingTF, idf, nb])\n",
        "pipeline_svm = Pipeline(stages=[tokenizer, hashingTF, idf, svm])\n",
        "pipeline_lr = Pipeline(stages=[tokenizer, hashingTF, idf, lr])"
      ],
      "metadata": {
        "id": "wjnlD15RdTGm"
      },
      "execution_count": null,
      "outputs": []
    },
    {
      "cell_type": "code",
      "source": [
        "import time"
      ],
      "metadata": {
        "id": "ocgXWjCyMFyy"
      },
      "execution_count": null,
      "outputs": []
    },
    {
      "cell_type": "code",
      "source": [
        "nb_time = time.time()\n",
        "\n",
        "# Train the Naive Bayes model on the training set\n",
        "model_nb = pipeline_nb.fit(train_magSub)\n",
        "predictions = model_nb.transform(val_magSub)\n",
        "evaluator = MulticlassClassificationEvaluator(labelCol='label', predictionCol='prediction', metricName='accuracy')\n",
        "accuracy = evaluator.evaluate(predictions)\n",
        "print(f'Accuracy on validation set: {accuracy}')\n",
        "\n",
        "# Test the model\n",
        "predictions = model_nb.transform(test_magSub)\n",
        "accuracy = evaluator.evaluate(predictions)\n",
        "print(f'Accuracy on test set: {accuracy}')\n",
        "\n",
        "# Precision, Recall, F1-score\n",
        "evaluator = MulticlassClassificationEvaluator(labelCol='label', predictionCol='prediction', metricName='weightedPrecision')\n",
        "precision = evaluator.evaluate(predictions)\n",
        "\n",
        "evaluator = MulticlassClassificationEvaluator(labelCol='label', predictionCol='prediction', metricName='weightedRecall')\n",
        "recall = evaluator.evaluate(predictions)\n",
        "\n",
        "evaluator = MulticlassClassificationEvaluator(labelCol='label', predictionCol='prediction', metricName='f1')\n",
        "f1_score = evaluator.evaluate(predictions)\n",
        "\n",
        "print(f'Precision: {precision:.3f}')\n",
        "print(f'Recall: {recall:.3f}')\n",
        "print(f'F1-Score: {f1_score:.3f}')\n",
        "\n",
        "print('Time taken for Naive Bayes algorithm:', time.time() - nb_time)"
      ],
      "metadata": {
        "id": "dnkE9pCzdWmu",
        "colab": {
          "base_uri": "https://localhost:8080/"
        },
        "outputId": "b9b86cd7-9385-4e34-81be-06cba867d799"
      },
      "execution_count": null,
      "outputs": [
        {
          "output_type": "stream",
          "name": "stdout",
          "text": [
            "Accuracy on validation set: 0.8505246706854208\n",
            "Accuracy on test set: 0.8488463261648745\n",
            "Precision: 0.867\n",
            "Recall: 0.849\n",
            "F1-Score: 0.856\n",
            "Time taken for Naive Bayes algorithm: 33.044373512268066\n"
          ]
        }
      ]
    },
    {
      "cell_type": "code",
      "source": [
        "svm_time = time.time()\n",
        "\n",
        "# Train the Support Vector Machine model on the training set\n",
        "model_svm = pipeline_svm.fit(train_magSub_svm)\n",
        "predictions = model_svm.transform(val_magSub_svm)\n",
        "evaluator = MulticlassClassificationEvaluator(labelCol='label', predictionCol='prediction', metricName='accuracy')\n",
        "accuracy = evaluator.evaluate(predictions)\n",
        "print(f'Accuracy on validation set: {accuracy}')\n",
        "\n",
        "# Test the model\n",
        "predictions = model_svm.transform(test_magSub_svm)\n",
        "accuracy = evaluator.evaluate(predictions)\n",
        "print(f'Accuracy on test set: {accuracy}')\n",
        "\n",
        "# Precision, Recall, F1-score\n",
        "evaluator = MulticlassClassificationEvaluator(labelCol='label', predictionCol='prediction', metricName='weightedPrecision')\n",
        "precision = evaluator.evaluate(predictions)\n",
        "\n",
        "evaluator = MulticlassClassificationEvaluator(labelCol='label', predictionCol='prediction', metricName='weightedRecall')\n",
        "recall = evaluator.evaluate(predictions)\n",
        "\n",
        "evaluator = MulticlassClassificationEvaluator(labelCol='label', predictionCol='prediction', metricName='f1')\n",
        "f1_score = evaluator.evaluate(predictions)\n",
        "\n",
        "print(f'Precision: {precision:.3f}')\n",
        "print(f'Recall: {recall:.3f}')\n",
        "print(f'F1-Score: {f1_score:.3f}')\n",
        "\n",
        "print('Time taken for Support Vector Machine algorithm:', time.time() - svm_time)"
      ],
      "metadata": {
        "id": "V6xNl4RQdax3",
        "colab": {
          "base_uri": "https://localhost:8080/"
        },
        "outputId": "8c1ab7c3-a595-40e5-8206-d7e64d9db60d"
      },
      "execution_count": null,
      "outputs": [
        {
          "output_type": "stream",
          "name": "stdout",
          "text": [
            "Accuracy on validation set: 0.8754186202277294\n",
            "Accuracy on test set: 0.8689516129032258\n",
            "Precision: 0.860\n",
            "Recall: 0.869\n",
            "F1-Score: 0.862\n",
            "Time taken for Support Vector Machine algorithm: 41.58541393280029\n"
          ]
        }
      ]
    },
    {
      "cell_type": "code",
      "source": [
        "lr_time = time.time()\n",
        "\n",
        "# Train the Logistic Regression model on the training set\n",
        "model_lr = pipeline_lr.fit(train_magSub_lr)\n",
        "predictions = model_lr.transform(val_magSub_lr)\n",
        "evaluator = MulticlassClassificationEvaluator(labelCol='label', predictionCol='prediction', metricName='accuracy')\n",
        "accuracy = evaluator.evaluate(predictions)\n",
        "print(f'Accuracy on validation set: {accuracy}')\n",
        "\n",
        "# Test the model\n",
        "predictions = model_lr.transform(test_magSub_lr)\n",
        "accuracy = evaluator.evaluate(predictions)\n",
        "print(f'Accuracy on test set: {accuracy}')\n",
        "\n",
        "# Precision, Recall, F1-score\n",
        "evaluator = MulticlassClassificationEvaluator(labelCol='label', predictionCol='prediction', metricName='weightedPrecision')\n",
        "precision = evaluator.evaluate(predictions)\n",
        "\n",
        "evaluator = MulticlassClassificationEvaluator(labelCol='label', predictionCol='prediction', metricName='weightedRecall')\n",
        "recall = evaluator.evaluate(predictions)\n",
        "\n",
        "evaluator = MulticlassClassificationEvaluator(labelCol='label', predictionCol='prediction', metricName='f1')\n",
        "f1_score = evaluator.evaluate(predictions)\n",
        "\n",
        "print(f'Precision: {precision:.3f}')\n",
        "print(f'Recall: {recall:.3f}')\n",
        "print(f'F1-Score: {f1_score:.3f}')\n",
        "\n",
        "print('Time taken for Logistic Regression algorithm:', time.time() - lr_time)"
      ],
      "metadata": {
        "id": "RUOY7spbeFVl",
        "colab": {
          "base_uri": "https://localhost:8080/"
        },
        "outputId": "823eaf56-1981-4a6c-e18a-cf2bd0d499d8"
      },
      "execution_count": null,
      "outputs": [
        {
          "output_type": "stream",
          "name": "stdout",
          "text": [
            "Accuracy on validation set: 0.8763116767135521\n",
            "Accuracy on test set: 0.8774641577060932\n",
            "Precision: 0.873\n",
            "Recall: 0.877\n",
            "F1-Score: 0.875\n",
            "Time taken for Logistic Regression algorithm: 103.69408512115479\n"
          ]
        }
      ]
    },
    {
      "cell_type": "markdown",
      "source": [
        "To analyze the latency and throughput of the model, you can use the spark-submit command to run the model on a cluster with a larger dataset. You can monitor the execution time and resource utilization during the execution to identify any bottlenecks or performance issues.\n",
        "\n",
        "Additionally, you can use the Spark UI to monitor the performance of the model. The Spark UI provides information about the tasks, stages, and resource utilization of the job. You can use this information to optimize the performance of the model.\n",
        "\n",
        "Another way to analyze the latency and throughput of the model is to use the Spark Streaming module. Spark Streaming can be used to process streaming data in real-time and can help you analyze the performance of the model in a streaming scenario.\n",
        "\n",
        "Overall, analyzing the latency and throughput of the model can help you optimize the performance and scalability of the model."
      ],
      "metadata": {
        "id": "CLlaZFkWeWSv"
      }
    },
    {
      "cell_type": "markdown",
      "source": [
        "After evaluating the model on the validation set, you can perform an error analysis to identify the areas where the model is making errors. This can help you improve the model further by addressing the errors.\n",
        "\n",
        "One way to perform error analysis is to analyze the confusion matrix. You can use the MulticlassMetrics class from Spark ML to compute the confusion matrix and evaluation metrics such as precision, recall, and F1-score."
      ],
      "metadata": {
        "id": "rXu5e32xeZnN"
      }
    }
  ]
}